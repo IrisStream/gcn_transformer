{
  "nbformat": 4,
  "nbformat_minor": 0,
  "metadata": {
    "colab": {
      "name": "Moses.ipynb",
      "provenance": [],
      "collapsed_sections": [],
      "machine_shape": "hm"
    },
    "kernelspec": {
      "name": "python3",
      "display_name": "Python 3"
    },
    "language_info": {
      "name": "python"
    },
    "accelerator": "GPU",
    "gpuClass": "standard",
    "widgets": {
      "application/vnd.jupyter.widget-state+json": {
        "476bcc8db66d494bb6ea34e38846d6dd": {
          "model_module": "@jupyter-widgets/controls",
          "model_name": "HBoxModel",
          "model_module_version": "1.5.0",
          "state": {
            "_dom_classes": [],
            "_model_module": "@jupyter-widgets/controls",
            "_model_module_version": "1.5.0",
            "_model_name": "HBoxModel",
            "_view_count": null,
            "_view_module": "@jupyter-widgets/controls",
            "_view_module_version": "1.5.0",
            "_view_name": "HBoxView",
            "box_style": "",
            "children": [
              "IPY_MODEL_bc353d0848634af39d92107bb8d7896d",
              "IPY_MODEL_af07482c479743bfb86c2b06e14a9c4e",
              "IPY_MODEL_8a343e6ddb3d413a98da19e38116c6cd"
            ],
            "layout": "IPY_MODEL_6d6dde1fe0ad4d278f07d11daee51bb8"
          }
        },
        "bc353d0848634af39d92107bb8d7896d": {
          "model_module": "@jupyter-widgets/controls",
          "model_name": "HTMLModel",
          "model_module_version": "1.5.0",
          "state": {
            "_dom_classes": [],
            "_model_module": "@jupyter-widgets/controls",
            "_model_module_version": "1.5.0",
            "_model_name": "HTMLModel",
            "_view_count": null,
            "_view_module": "@jupyter-widgets/controls",
            "_view_module_version": "1.5.0",
            "_view_name": "HTMLView",
            "description": "",
            "description_tooltip": null,
            "layout": "IPY_MODEL_a5a87e4f2b924853a607b598c0c697b0",
            "placeholder": "​",
            "style": "IPY_MODEL_3395360598744938958737a1563bb57d",
            "value": "Downloading https://raw.githubusercontent.com/stanfordnlp/stanza-resources/main/resources_1.4.0.json: "
          }
        },
        "af07482c479743bfb86c2b06e14a9c4e": {
          "model_module": "@jupyter-widgets/controls",
          "model_name": "FloatProgressModel",
          "model_module_version": "1.5.0",
          "state": {
            "_dom_classes": [],
            "_model_module": "@jupyter-widgets/controls",
            "_model_module_version": "1.5.0",
            "_model_name": "FloatProgressModel",
            "_view_count": null,
            "_view_module": "@jupyter-widgets/controls",
            "_view_module_version": "1.5.0",
            "_view_name": "ProgressView",
            "bar_style": "success",
            "description": "",
            "description_tooltip": null,
            "layout": "IPY_MODEL_e4125819e4e746eb81e1e0ebe3783fa0",
            "max": 25998,
            "min": 0,
            "orientation": "horizontal",
            "style": "IPY_MODEL_dcf650f5eb334c888adaac189ec14620",
            "value": 25998
          }
        },
        "8a343e6ddb3d413a98da19e38116c6cd": {
          "model_module": "@jupyter-widgets/controls",
          "model_name": "HTMLModel",
          "model_module_version": "1.5.0",
          "state": {
            "_dom_classes": [],
            "_model_module": "@jupyter-widgets/controls",
            "_model_module_version": "1.5.0",
            "_model_name": "HTMLModel",
            "_view_count": null,
            "_view_module": "@jupyter-widgets/controls",
            "_view_module_version": "1.5.0",
            "_view_name": "HTMLView",
            "description": "",
            "description_tooltip": null,
            "layout": "IPY_MODEL_b173bafac84745fe9aceb0d8744ce67f",
            "placeholder": "​",
            "style": "IPY_MODEL_27b0a773a01b434a9f2e7e57f9b4c024",
            "value": " 154k/? [00:00&lt;00:00, 4.94MB/s]"
          }
        },
        "6d6dde1fe0ad4d278f07d11daee51bb8": {
          "model_module": "@jupyter-widgets/base",
          "model_name": "LayoutModel",
          "model_module_version": "1.2.0",
          "state": {
            "_model_module": "@jupyter-widgets/base",
            "_model_module_version": "1.2.0",
            "_model_name": "LayoutModel",
            "_view_count": null,
            "_view_module": "@jupyter-widgets/base",
            "_view_module_version": "1.2.0",
            "_view_name": "LayoutView",
            "align_content": null,
            "align_items": null,
            "align_self": null,
            "border": null,
            "bottom": null,
            "display": null,
            "flex": null,
            "flex_flow": null,
            "grid_area": null,
            "grid_auto_columns": null,
            "grid_auto_flow": null,
            "grid_auto_rows": null,
            "grid_column": null,
            "grid_gap": null,
            "grid_row": null,
            "grid_template_areas": null,
            "grid_template_columns": null,
            "grid_template_rows": null,
            "height": null,
            "justify_content": null,
            "justify_items": null,
            "left": null,
            "margin": null,
            "max_height": null,
            "max_width": null,
            "min_height": null,
            "min_width": null,
            "object_fit": null,
            "object_position": null,
            "order": null,
            "overflow": null,
            "overflow_x": null,
            "overflow_y": null,
            "padding": null,
            "right": null,
            "top": null,
            "visibility": null,
            "width": null
          }
        },
        "a5a87e4f2b924853a607b598c0c697b0": {
          "model_module": "@jupyter-widgets/base",
          "model_name": "LayoutModel",
          "model_module_version": "1.2.0",
          "state": {
            "_model_module": "@jupyter-widgets/base",
            "_model_module_version": "1.2.0",
            "_model_name": "LayoutModel",
            "_view_count": null,
            "_view_module": "@jupyter-widgets/base",
            "_view_module_version": "1.2.0",
            "_view_name": "LayoutView",
            "align_content": null,
            "align_items": null,
            "align_self": null,
            "border": null,
            "bottom": null,
            "display": null,
            "flex": null,
            "flex_flow": null,
            "grid_area": null,
            "grid_auto_columns": null,
            "grid_auto_flow": null,
            "grid_auto_rows": null,
            "grid_column": null,
            "grid_gap": null,
            "grid_row": null,
            "grid_template_areas": null,
            "grid_template_columns": null,
            "grid_template_rows": null,
            "height": null,
            "justify_content": null,
            "justify_items": null,
            "left": null,
            "margin": null,
            "max_height": null,
            "max_width": null,
            "min_height": null,
            "min_width": null,
            "object_fit": null,
            "object_position": null,
            "order": null,
            "overflow": null,
            "overflow_x": null,
            "overflow_y": null,
            "padding": null,
            "right": null,
            "top": null,
            "visibility": null,
            "width": null
          }
        },
        "3395360598744938958737a1563bb57d": {
          "model_module": "@jupyter-widgets/controls",
          "model_name": "DescriptionStyleModel",
          "model_module_version": "1.5.0",
          "state": {
            "_model_module": "@jupyter-widgets/controls",
            "_model_module_version": "1.5.0",
            "_model_name": "DescriptionStyleModel",
            "_view_count": null,
            "_view_module": "@jupyter-widgets/base",
            "_view_module_version": "1.2.0",
            "_view_name": "StyleView",
            "description_width": ""
          }
        },
        "e4125819e4e746eb81e1e0ebe3783fa0": {
          "model_module": "@jupyter-widgets/base",
          "model_name": "LayoutModel",
          "model_module_version": "1.2.0",
          "state": {
            "_model_module": "@jupyter-widgets/base",
            "_model_module_version": "1.2.0",
            "_model_name": "LayoutModel",
            "_view_count": null,
            "_view_module": "@jupyter-widgets/base",
            "_view_module_version": "1.2.0",
            "_view_name": "LayoutView",
            "align_content": null,
            "align_items": null,
            "align_self": null,
            "border": null,
            "bottom": null,
            "display": null,
            "flex": null,
            "flex_flow": null,
            "grid_area": null,
            "grid_auto_columns": null,
            "grid_auto_flow": null,
            "grid_auto_rows": null,
            "grid_column": null,
            "grid_gap": null,
            "grid_row": null,
            "grid_template_areas": null,
            "grid_template_columns": null,
            "grid_template_rows": null,
            "height": null,
            "justify_content": null,
            "justify_items": null,
            "left": null,
            "margin": null,
            "max_height": null,
            "max_width": null,
            "min_height": null,
            "min_width": null,
            "object_fit": null,
            "object_position": null,
            "order": null,
            "overflow": null,
            "overflow_x": null,
            "overflow_y": null,
            "padding": null,
            "right": null,
            "top": null,
            "visibility": null,
            "width": null
          }
        },
        "dcf650f5eb334c888adaac189ec14620": {
          "model_module": "@jupyter-widgets/controls",
          "model_name": "ProgressStyleModel",
          "model_module_version": "1.5.0",
          "state": {
            "_model_module": "@jupyter-widgets/controls",
            "_model_module_version": "1.5.0",
            "_model_name": "ProgressStyleModel",
            "_view_count": null,
            "_view_module": "@jupyter-widgets/base",
            "_view_module_version": "1.2.0",
            "_view_name": "StyleView",
            "bar_color": null,
            "description_width": ""
          }
        },
        "b173bafac84745fe9aceb0d8744ce67f": {
          "model_module": "@jupyter-widgets/base",
          "model_name": "LayoutModel",
          "model_module_version": "1.2.0",
          "state": {
            "_model_module": "@jupyter-widgets/base",
            "_model_module_version": "1.2.0",
            "_model_name": "LayoutModel",
            "_view_count": null,
            "_view_module": "@jupyter-widgets/base",
            "_view_module_version": "1.2.0",
            "_view_name": "LayoutView",
            "align_content": null,
            "align_items": null,
            "align_self": null,
            "border": null,
            "bottom": null,
            "display": null,
            "flex": null,
            "flex_flow": null,
            "grid_area": null,
            "grid_auto_columns": null,
            "grid_auto_flow": null,
            "grid_auto_rows": null,
            "grid_column": null,
            "grid_gap": null,
            "grid_row": null,
            "grid_template_areas": null,
            "grid_template_columns": null,
            "grid_template_rows": null,
            "height": null,
            "justify_content": null,
            "justify_items": null,
            "left": null,
            "margin": null,
            "max_height": null,
            "max_width": null,
            "min_height": null,
            "min_width": null,
            "object_fit": null,
            "object_position": null,
            "order": null,
            "overflow": null,
            "overflow_x": null,
            "overflow_y": null,
            "padding": null,
            "right": null,
            "top": null,
            "visibility": null,
            "width": null
          }
        },
        "27b0a773a01b434a9f2e7e57f9b4c024": {
          "model_module": "@jupyter-widgets/controls",
          "model_name": "DescriptionStyleModel",
          "model_module_version": "1.5.0",
          "state": {
            "_model_module": "@jupyter-widgets/controls",
            "_model_module_version": "1.5.0",
            "_model_name": "DescriptionStyleModel",
            "_view_count": null,
            "_view_module": "@jupyter-widgets/base",
            "_view_module_version": "1.2.0",
            "_view_name": "StyleView",
            "description_width": ""
          }
        },
        "f60ae720ebab46bda9e15887e7438206": {
          "model_module": "@jupyter-widgets/controls",
          "model_name": "HBoxModel",
          "model_module_version": "1.5.0",
          "state": {
            "_dom_classes": [],
            "_model_module": "@jupyter-widgets/controls",
            "_model_module_version": "1.5.0",
            "_model_name": "HBoxModel",
            "_view_count": null,
            "_view_module": "@jupyter-widgets/controls",
            "_view_module_version": "1.5.0",
            "_view_name": "HBoxView",
            "box_style": "",
            "children": [
              "IPY_MODEL_a66bad20c6c1471e8da4da6997f483b6",
              "IPY_MODEL_34301e1034a7422aae39ba06bcc266a8",
              "IPY_MODEL_ccc3bfb4e5bf4709919f630fcf2c8f7a"
            ],
            "layout": "IPY_MODEL_debb9fab3a55474eb97af5b355da6e3a"
          }
        },
        "a66bad20c6c1471e8da4da6997f483b6": {
          "model_module": "@jupyter-widgets/controls",
          "model_name": "HTMLModel",
          "model_module_version": "1.5.0",
          "state": {
            "_dom_classes": [],
            "_model_module": "@jupyter-widgets/controls",
            "_model_module_version": "1.5.0",
            "_model_name": "HTMLModel",
            "_view_count": null,
            "_view_module": "@jupyter-widgets/controls",
            "_view_module_version": "1.5.0",
            "_view_name": "HTMLView",
            "description": "",
            "description_tooltip": null,
            "layout": "IPY_MODEL_3e3905a2bd6b42c3816846893e2b7b0d",
            "placeholder": "​",
            "style": "IPY_MODEL_621724389eb64f0b88011edd320852f9",
            "value": "Downloading https://raw.githubusercontent.com/stanfordnlp/stanza-resources/main/resources_1.4.0.json: "
          }
        },
        "34301e1034a7422aae39ba06bcc266a8": {
          "model_module": "@jupyter-widgets/controls",
          "model_name": "FloatProgressModel",
          "model_module_version": "1.5.0",
          "state": {
            "_dom_classes": [],
            "_model_module": "@jupyter-widgets/controls",
            "_model_module_version": "1.5.0",
            "_model_name": "FloatProgressModel",
            "_view_count": null,
            "_view_module": "@jupyter-widgets/controls",
            "_view_module_version": "1.5.0",
            "_view_name": "ProgressView",
            "bar_style": "success",
            "description": "",
            "description_tooltip": null,
            "layout": "IPY_MODEL_bde27a86a06a4aa5ad772854bb24d058",
            "max": 25998,
            "min": 0,
            "orientation": "horizontal",
            "style": "IPY_MODEL_2e0ad2be7e284a9a9d56f0ac0eb2ae16",
            "value": 25998
          }
        },
        "ccc3bfb4e5bf4709919f630fcf2c8f7a": {
          "model_module": "@jupyter-widgets/controls",
          "model_name": "HTMLModel",
          "model_module_version": "1.5.0",
          "state": {
            "_dom_classes": [],
            "_model_module": "@jupyter-widgets/controls",
            "_model_module_version": "1.5.0",
            "_model_name": "HTMLModel",
            "_view_count": null,
            "_view_module": "@jupyter-widgets/controls",
            "_view_module_version": "1.5.0",
            "_view_name": "HTMLView",
            "description": "",
            "description_tooltip": null,
            "layout": "IPY_MODEL_32ef703399ab4756908b33ce687021a5",
            "placeholder": "​",
            "style": "IPY_MODEL_00311bc0a9444f339c32cd31824dd63d",
            "value": " 154k/? [00:00&lt;00:00, 5.45MB/s]"
          }
        },
        "debb9fab3a55474eb97af5b355da6e3a": {
          "model_module": "@jupyter-widgets/base",
          "model_name": "LayoutModel",
          "model_module_version": "1.2.0",
          "state": {
            "_model_module": "@jupyter-widgets/base",
            "_model_module_version": "1.2.0",
            "_model_name": "LayoutModel",
            "_view_count": null,
            "_view_module": "@jupyter-widgets/base",
            "_view_module_version": "1.2.0",
            "_view_name": "LayoutView",
            "align_content": null,
            "align_items": null,
            "align_self": null,
            "border": null,
            "bottom": null,
            "display": null,
            "flex": null,
            "flex_flow": null,
            "grid_area": null,
            "grid_auto_columns": null,
            "grid_auto_flow": null,
            "grid_auto_rows": null,
            "grid_column": null,
            "grid_gap": null,
            "grid_row": null,
            "grid_template_areas": null,
            "grid_template_columns": null,
            "grid_template_rows": null,
            "height": null,
            "justify_content": null,
            "justify_items": null,
            "left": null,
            "margin": null,
            "max_height": null,
            "max_width": null,
            "min_height": null,
            "min_width": null,
            "object_fit": null,
            "object_position": null,
            "order": null,
            "overflow": null,
            "overflow_x": null,
            "overflow_y": null,
            "padding": null,
            "right": null,
            "top": null,
            "visibility": null,
            "width": null
          }
        },
        "3e3905a2bd6b42c3816846893e2b7b0d": {
          "model_module": "@jupyter-widgets/base",
          "model_name": "LayoutModel",
          "model_module_version": "1.2.0",
          "state": {
            "_model_module": "@jupyter-widgets/base",
            "_model_module_version": "1.2.0",
            "_model_name": "LayoutModel",
            "_view_count": null,
            "_view_module": "@jupyter-widgets/base",
            "_view_module_version": "1.2.0",
            "_view_name": "LayoutView",
            "align_content": null,
            "align_items": null,
            "align_self": null,
            "border": null,
            "bottom": null,
            "display": null,
            "flex": null,
            "flex_flow": null,
            "grid_area": null,
            "grid_auto_columns": null,
            "grid_auto_flow": null,
            "grid_auto_rows": null,
            "grid_column": null,
            "grid_gap": null,
            "grid_row": null,
            "grid_template_areas": null,
            "grid_template_columns": null,
            "grid_template_rows": null,
            "height": null,
            "justify_content": null,
            "justify_items": null,
            "left": null,
            "margin": null,
            "max_height": null,
            "max_width": null,
            "min_height": null,
            "min_width": null,
            "object_fit": null,
            "object_position": null,
            "order": null,
            "overflow": null,
            "overflow_x": null,
            "overflow_y": null,
            "padding": null,
            "right": null,
            "top": null,
            "visibility": null,
            "width": null
          }
        },
        "621724389eb64f0b88011edd320852f9": {
          "model_module": "@jupyter-widgets/controls",
          "model_name": "DescriptionStyleModel",
          "model_module_version": "1.5.0",
          "state": {
            "_model_module": "@jupyter-widgets/controls",
            "_model_module_version": "1.5.0",
            "_model_name": "DescriptionStyleModel",
            "_view_count": null,
            "_view_module": "@jupyter-widgets/base",
            "_view_module_version": "1.2.0",
            "_view_name": "StyleView",
            "description_width": ""
          }
        },
        "bde27a86a06a4aa5ad772854bb24d058": {
          "model_module": "@jupyter-widgets/base",
          "model_name": "LayoutModel",
          "model_module_version": "1.2.0",
          "state": {
            "_model_module": "@jupyter-widgets/base",
            "_model_module_version": "1.2.0",
            "_model_name": "LayoutModel",
            "_view_count": null,
            "_view_module": "@jupyter-widgets/base",
            "_view_module_version": "1.2.0",
            "_view_name": "LayoutView",
            "align_content": null,
            "align_items": null,
            "align_self": null,
            "border": null,
            "bottom": null,
            "display": null,
            "flex": null,
            "flex_flow": null,
            "grid_area": null,
            "grid_auto_columns": null,
            "grid_auto_flow": null,
            "grid_auto_rows": null,
            "grid_column": null,
            "grid_gap": null,
            "grid_row": null,
            "grid_template_areas": null,
            "grid_template_columns": null,
            "grid_template_rows": null,
            "height": null,
            "justify_content": null,
            "justify_items": null,
            "left": null,
            "margin": null,
            "max_height": null,
            "max_width": null,
            "min_height": null,
            "min_width": null,
            "object_fit": null,
            "object_position": null,
            "order": null,
            "overflow": null,
            "overflow_x": null,
            "overflow_y": null,
            "padding": null,
            "right": null,
            "top": null,
            "visibility": null,
            "width": null
          }
        },
        "2e0ad2be7e284a9a9d56f0ac0eb2ae16": {
          "model_module": "@jupyter-widgets/controls",
          "model_name": "ProgressStyleModel",
          "model_module_version": "1.5.0",
          "state": {
            "_model_module": "@jupyter-widgets/controls",
            "_model_module_version": "1.5.0",
            "_model_name": "ProgressStyleModel",
            "_view_count": null,
            "_view_module": "@jupyter-widgets/base",
            "_view_module_version": "1.2.0",
            "_view_name": "StyleView",
            "bar_color": null,
            "description_width": ""
          }
        },
        "32ef703399ab4756908b33ce687021a5": {
          "model_module": "@jupyter-widgets/base",
          "model_name": "LayoutModel",
          "model_module_version": "1.2.0",
          "state": {
            "_model_module": "@jupyter-widgets/base",
            "_model_module_version": "1.2.0",
            "_model_name": "LayoutModel",
            "_view_count": null,
            "_view_module": "@jupyter-widgets/base",
            "_view_module_version": "1.2.0",
            "_view_name": "LayoutView",
            "align_content": null,
            "align_items": null,
            "align_self": null,
            "border": null,
            "bottom": null,
            "display": null,
            "flex": null,
            "flex_flow": null,
            "grid_area": null,
            "grid_auto_columns": null,
            "grid_auto_flow": null,
            "grid_auto_rows": null,
            "grid_column": null,
            "grid_gap": null,
            "grid_row": null,
            "grid_template_areas": null,
            "grid_template_columns": null,
            "grid_template_rows": null,
            "height": null,
            "justify_content": null,
            "justify_items": null,
            "left": null,
            "margin": null,
            "max_height": null,
            "max_width": null,
            "min_height": null,
            "min_width": null,
            "object_fit": null,
            "object_position": null,
            "order": null,
            "overflow": null,
            "overflow_x": null,
            "overflow_y": null,
            "padding": null,
            "right": null,
            "top": null,
            "visibility": null,
            "width": null
          }
        },
        "00311bc0a9444f339c32cd31824dd63d": {
          "model_module": "@jupyter-widgets/controls",
          "model_name": "DescriptionStyleModel",
          "model_module_version": "1.5.0",
          "state": {
            "_model_module": "@jupyter-widgets/controls",
            "_model_module_version": "1.5.0",
            "_model_name": "DescriptionStyleModel",
            "_view_count": null,
            "_view_module": "@jupyter-widgets/base",
            "_view_module_version": "1.2.0",
            "_view_name": "StyleView",
            "description_width": ""
          }
        }
      }
    }
  },
  "cells": [
    {
      "cell_type": "markdown",
      "source": [
        "# Prepare"
      ],
      "metadata": {
        "id": "Iz46O7i7fc_M"
      }
    },
    {
      "cell_type": "code",
      "source": [
        "!nvidia-smi"
      ],
      "metadata": {
        "id": "NDU7eHtPs6w-"
      },
      "execution_count": null,
      "outputs": []
    },
    {
      "cell_type": "code",
      "source": [
        "#@title Parameters\n",
        "\n",
        "#@markdown ### Choose which language to proccess with\n",
        "language = \"de\" #@param [\"en\", \"de\"] {type:\"string\"}\n",
        "\n",
        "#@markdown ### Choose source data file path\n",
        "source_dir = 'wmt14' #@param {type:\"string\"}\n",
        "source_dir = '/content/gdrive/MyDrive/essay_data/' + source_dir\n",
        "\n",
        "#@markdown ### Choose output data file path\n",
        "target_dir = '/content/gdrive/MyDrive/essay_data/data_gcn' #@param [\"/content/gdrive/MyDrive/essay_data/data_gcn\", \"data_gcn\"]\n",
        "\n",
        "#@markdown ### Choose which part to proccess\n",
        "first_part = 0 #@param {type:\"number\"}\n",
        "last_part =  1789 #@param {type:\"number\"}\n",
        "\n",
        "step = (last_part - first_part) // abs(last_part - first_part)\n",
        "\n",
        "token = {}\n",
        "vocab = {}\n",
        "dep = {}\n"
      ],
      "metadata": {
        "id": "SIHjMhafoTGe"
      },
      "execution_count": null,
      "outputs": []
    },
    {
      "cell_type": "markdown",
      "source": [
        "# Install packages"
      ],
      "metadata": {
        "id": "Q9DNBTrRu1c5"
      }
    },
    {
      "cell_type": "code",
      "execution_count": null,
      "metadata": {
        "id": "kTJTgff90riZ"
      },
      "outputs": [],
      "source": [
        "!pip install mosestokenizer\n",
        "!pip install stanza"
      ]
    },
    {
      "cell_type": "code",
      "source": [
        "import os\n",
        "import stanza"
      ],
      "metadata": {
        "id": "uO0H7OgDigVT"
      },
      "execution_count": null,
      "outputs": []
    },
    {
      "cell_type": "code",
      "source": [
        "stanza.download(language)"
      ],
      "metadata": {
        "id": "LLXPYx7kf1qp"
      },
      "execution_count": null,
      "outputs": []
    },
    {
      "cell_type": "code",
      "source": [
        "import os\n",
        "if not os.path.exists(language):\n",
        "  !split -l 2500 -de /{raw_data_dir}/data.{language} ./{language}/{language}_\n",
        "else:\n",
        "  print(\"Data have been downloaded\")"
      ],
      "metadata": {
        "colab": {
          "base_uri": "https://localhost:8080/"
        },
        "id": "tywICLkNfuzp",
        "outputId": "78c82932-2fb7-4e5d-8566-e165642a36d1"
      },
      "execution_count": null,
      "outputs": [
        {
          "output_type": "stream",
          "name": "stdout",
          "text": [
            "Downloading...\n",
            "From: https://drive.google.com/uc?id=1-48YG87WajVneWP1t362CQyn_iqohqr5\n",
            "To: /content/raw_data_gcn.zip\n",
            "100% 468M/468M [00:02<00:00, 201MB/s]\n",
            "Archive:  raw_data_gcn.zip\n",
            "   creating: raw_data_gcn/\n",
            "   creating: raw_data_gcn/.ipynb_checkpoints/\n",
            "  inflating: raw_data_gcn/data.de    \n",
            "  inflating: raw_data_gcn/data.en    \n",
            "  inflating: raw_data_gcn/vocab.de   \n",
            "  inflating: raw_data_gcn/vocab.en   \n"
          ]
        }
      ]
    },
    {
      "cell_type": "code",
      "source": [
        "# Load the Drive helper and mount\n",
        "from google.colab import drive\n",
        "drive.mount('/content/gdrive')"
      ],
      "metadata": {
        "colab": {
          "base_uri": "https://localhost:8080/"
        },
        "id": "obuGqypLf69j",
        "outputId": "561cbf73-de08-46bf-9320-5d0978f59985"
      },
      "execution_count": null,
      "outputs": [
        {
          "output_type": "stream",
          "name": "stdout",
          "text": [
            "Mounted at /content/gdrive\n"
          ]
        }
      ]
    },
    {
      "cell_type": "markdown",
      "source": [
        "# Moses Tokenizer\n",
        "According to [WMT14 Translation task](https://www.statmt.org/wmt14/translation-task.html), WMT14 data was allowed to tokenize by ***Moses***.\\\\\n",
        "The Following data "
      ],
      "metadata": {
        "id": "CA2qiF3QNtJ-"
      }
    },
    {
      "cell_type": "code",
      "source": [
        "# vim /usr/local/lib/python3.7/dist-packages/mosestokenizer/tokenizer-v1.1.perl\n",
        "#   - @-@ -> ##AT##-##AT##\n",
        "!sed -i 's/\\\\\\@-\\\\\\@/\\\\\\#\\\\\\#AT\\\\\\#\\\\\\#-\\\\\\#\\\\\\#AT\\\\\\#\\\\\\#/' /usr/local/lib/python3.7/dist-packages/mosestokenizer/tokenizer-v1.1.perl"
      ],
      "metadata": {
        "id": "RZP-8bUXS2P4"
      },
      "execution_count": null,
      "outputs": []
    },
    {
      "cell_type": "code",
      "source": [
        "from mosestokenizer import *"
      ],
      "metadata": {
        "id": "SUInsZK10wTK"
      },
      "execution_count": null,
      "outputs": []
    },
    {
      "cell_type": "code",
      "source": [
        "def normalize(text):\n",
        "  text = text.replace(' ##AT##-##AT## ', '-')\n",
        "  text = text.replace('&amp;', '&')\n",
        "  text = text.replace('&#124;', '|')\n",
        "  text = text.replace('&lt;', '<')\n",
        "  text = text.replace('&gt;', '>')\n",
        "  text = text.replace('&apos;', \"'\")\n",
        "  text = text.replace('&quot;', '\"')\n",
        "  text = text.replace('&#91;', '[')\n",
        "  text = text.replace('&#93;', ']') \n",
        "  text = text.replace('##STAR##', '*')\n",
        "  text = text.replace('##UNDERSCORE##', '_')\n",
        "  text = text.replace('##AT##', '@')\n",
        "  return text \n",
        "\n",
        "def remove_rich_text_format(lang, filename):\n",
        "  document = []\n",
        "  with open(filename, encoding='utf-8', errors='ignore') as f:\n",
        "    for line in f:\n",
        "      document.append(normalize(line))\n",
        "  return document\n",
        "\n",
        "def tokenize_step(lang, document_split):\n",
        "  document_tokenized = []\n",
        "  with MosesTokenizer(lang) as tokenize:\n",
        "    for sentence in document_split:\n",
        "      document_tokenized.append(tokenize(sentence))\n",
        "  # print(f'- tokenize_step')\n",
        "  # print(document_split)\n",
        "  # print(document_tokenized)\n",
        "  return document_tokenized\n",
        "\n",
        "def split_sentence(lang, document):\n",
        "  with MosesSentenceSplitter(lang) as splitsents:\n",
        "      return splitsents([document])\n",
        "\n",
        "def punctuation_normalize(lang, document_split):\n",
        "  document_normalized = []\n",
        "  with MosesPunctuationNormalizer(lang) as normalize:\n",
        "    for sentence in document_split:\n",
        "      document_normalized.append(normalize(sentence))\n",
        "  return document_normalized\n",
        "\n",
        "def sequence_transform(*steps):\n",
        "  def func(lang, input):\n",
        "    for step in steps:\n",
        "      input = step(lang, input)\n",
        "    return input\n",
        "  return func\n",
        "\n",
        "tokenizer = sequence_transform(remove_rich_text_format, \n",
        "                              punctuation_normalize,\n",
        "                              tokenize_step)"
      ],
      "metadata": {
        "id": "CHX_4qlfN9tE"
      },
      "execution_count": null,
      "outputs": []
    },
    {
      "cell_type": "markdown",
      "source": [
        "# NLP Parser"
      ],
      "metadata": {
        "id": "aucR5ldIfnTs"
      }
    },
    {
      "cell_type": "code",
      "source": [
        "nlp = {}\n",
        "nlp['en'] = stanza.Pipeline(lang='en', processors='tokenize,pos,lemma,depparse', tokenize_pretokenized=True)\n",
        "nlp['de'] = stanza.Pipeline(lang='de', processors='tokenize,pos,lemma,depparse', tokenize_pretokenized=True)"
      ],
      "metadata": {
        "colab": {
          "base_uri": "https://localhost:8080/",
          "height": 772,
          "referenced_widgets": [
            "476bcc8db66d494bb6ea34e38846d6dd",
            "bc353d0848634af39d92107bb8d7896d",
            "af07482c479743bfb86c2b06e14a9c4e",
            "8a343e6ddb3d413a98da19e38116c6cd",
            "6d6dde1fe0ad4d278f07d11daee51bb8",
            "a5a87e4f2b924853a607b598c0c697b0",
            "3395360598744938958737a1563bb57d",
            "e4125819e4e746eb81e1e0ebe3783fa0",
            "dcf650f5eb334c888adaac189ec14620",
            "b173bafac84745fe9aceb0d8744ce67f",
            "27b0a773a01b434a9f2e7e57f9b4c024",
            "f60ae720ebab46bda9e15887e7438206",
            "a66bad20c6c1471e8da4da6997f483b6",
            "34301e1034a7422aae39ba06bcc266a8",
            "ccc3bfb4e5bf4709919f630fcf2c8f7a",
            "debb9fab3a55474eb97af5b355da6e3a",
            "3e3905a2bd6b42c3816846893e2b7b0d",
            "621724389eb64f0b88011edd320852f9",
            "bde27a86a06a4aa5ad772854bb24d058",
            "2e0ad2be7e284a9a9d56f0ac0eb2ae16",
            "32ef703399ab4756908b33ce687021a5",
            "00311bc0a9444f339c32cd31824dd63d"
          ]
        },
        "id": "QyFvayJ7cGo8",
        "outputId": "1f46812c-62ad-4633-c292-1676cf81c7bc"
      },
      "execution_count": null,
      "outputs": [
        {
          "output_type": "display_data",
          "data": {
            "text/plain": [
              "Downloading https://raw.githubusercontent.com/stanfordnlp/stanza-resources/main/resources_1.4.0.json:   0%|   …"
            ],
            "application/vnd.jupyter.widget-view+json": {
              "version_major": 2,
              "version_minor": 0,
              "model_id": "476bcc8db66d494bb6ea34e38846d6dd"
            }
          },
          "metadata": {}
        },
        {
          "output_type": "stream",
          "name": "stderr",
          "text": [
            "2022-07-01 08:01:17 INFO: Loading these models for language: en (English):\n",
            "========================\n",
            "| Processor | Package  |\n",
            "------------------------\n",
            "| tokenize  | combined |\n",
            "| pos       | combined |\n",
            "| lemma     | combined |\n",
            "| depparse  | combined |\n",
            "========================\n",
            "\n",
            "2022-07-01 08:01:17 INFO: Use device: gpu\n",
            "2022-07-01 08:01:17 INFO: Loading: tokenize\n",
            "2022-07-01 08:01:17 INFO: Loading: pos\n",
            "2022-07-01 08:01:17 INFO: Loading: lemma\n",
            "2022-07-01 08:01:17 INFO: Loading: depparse\n",
            "2022-07-01 08:01:17 INFO: Done loading processors!\n"
          ]
        },
        {
          "output_type": "display_data",
          "data": {
            "text/plain": [
              "Downloading https://raw.githubusercontent.com/stanfordnlp/stanza-resources/main/resources_1.4.0.json:   0%|   …"
            ],
            "application/vnd.jupyter.widget-view+json": {
              "version_major": 2,
              "version_minor": 0,
              "model_id": "f60ae720ebab46bda9e15887e7438206"
            }
          },
          "metadata": {}
        },
        {
          "output_type": "stream",
          "name": "stderr",
          "text": [
            "2022-07-01 08:01:17 WARNING: Language de package default expects mwt, which has been added\n",
            "2022-07-01 08:01:18 INFO: Loading these models for language: de (German):\n",
            "=======================\n",
            "| Processor | Package |\n",
            "-----------------------\n",
            "| tokenize  | gsd     |\n",
            "| mwt       | gsd     |\n",
            "| pos       | gsd     |\n",
            "| lemma     | gsd     |\n",
            "| depparse  | gsd     |\n",
            "=======================\n",
            "\n",
            "2022-07-01 08:01:18 INFO: Use device: gpu\n",
            "2022-07-01 08:01:18 INFO: Loading: tokenize\n",
            "2022-07-01 08:01:18 INFO: Loading: mwt\n",
            "2022-07-01 08:01:18 INFO: Loading: pos\n",
            "2022-07-01 08:01:18 INFO: Loading: lemma\n",
            "2022-07-01 08:01:18 INFO: Loading: depparse\n",
            "2022-07-01 08:01:18 INFO: Done loading processors!\n"
          ]
        }
      ]
    },
    {
      "cell_type": "markdown",
      "source": [
        "# Voc2id"
      ],
      "metadata": {
        "id": "JRyAMI5DgUv6"
      }
    },
    {
      "cell_type": "code",
      "source": [
        "def get_token(lang):\n",
        "  filename = f'{raw_data_dir}/vocab.{lang}'\n",
        "  with open(filename, encoding='utf-8', errors='ignore') as f:\n",
        "    for line in f:\n",
        "      token[lang].append(line.strip())\n",
        "  token[lang][0] = 'UNK'      # Change <unk> token to UNK\n",
        "  token[lang].remove('<s>')   # Remove <eos> token from gcn data\n",
        "  token[lang].remove('</s>')  # Remove <bos> token from gcn data\n",
        "\n",
        "def replace(doc, word1, word2):\n",
        "  for i, sentence in enumerate(doc):\n",
        "    for j, word in enumerate(sentence):\n",
        "      if word == word1:\n",
        "        doc[i][j] = word2 \n",
        "  return doc\n",
        "\n",
        "import copy\n",
        "def raw(text1):\n",
        "  # print('before raw')\n",
        "  # print(' '.join([' '.join(sent) for sent in text]))\n",
        "  text = copy.deepcopy(text1)\n",
        "  text = replace(text, '##AT##-##AT##', '-')\n",
        "  text = replace(text, '&amp;', '&')\n",
        "  text = replace(text, '&#124;', '|')\n",
        "  text = replace(text, '&apos;', \"'\")\n",
        "  text = replace(text, '&quot;', '\"')\n",
        "  text = replace(text, '&#91;', '[')\n",
        "  text = replace(text, '&#93;', ']')\n",
        "  text = replace(text, '##STAR##', '*')\n",
        "  text = replace(text, '##UNDERSCORE##', '_')\n",
        "  text = replace(text, '##AT##', '@')\n",
        "  # print('after raw')\n",
        "  # print(' '.join([' '.join(sent) for sent in text]))\n",
        "  return text \n",
        "\n",
        "def build_vocab(token, vocab):\n",
        "  for i in range(len(token)):\n",
        "    vocab[token[i]] = {}\n",
        "    vocab[token[i]]['id'] = i\n",
        "    vocab[token[i]]['freq'] = 0"
      ],
      "metadata": {
        "id": "YL1i42tpgTPS"
      },
      "execution_count": null,
      "outputs": []
    },
    {
      "cell_type": "code",
      "source": [
        "def voc2id(vocab, output):\n",
        "  filepath = os.path.join(output, 'voc2id.txt')\n",
        "  with open(filepath, 'w') as f:\n",
        "    for word in vocab:\n",
        "      id = vocab[word]['id']\n",
        "      f.write(f'{word}\\t{id}\\n')"
      ],
      "metadata": {
        "id": "okDtHadsghpB"
      },
      "execution_count": null,
      "outputs": []
    },
    {
      "cell_type": "markdown",
      "source": [
        "# Frequency"
      ],
      "metadata": {
        "id": "V_PITJWfgp7a"
      }
    },
    {
      "cell_type": "code",
      "source": [
        "def get_frequency(document, vocab):\n",
        "  for sent in document:\n",
        "    for word in sent:\n",
        "      if word.text not in vocab:\n",
        "        vocab['UNK']['freq'] += 1\n",
        "      else:\n",
        "        vocab[word]['freq'] += 1\n",
        "\n",
        "def id2freq(vocab, output):\n",
        "  filepath = os.path.join(output, 'id2freq.txt')\n",
        "  with open(filepath, 'w') as f:\n",
        "    for word in vocab:\n",
        "      id = vocab[word]['id']\n",
        "      freq = vocab[word]['freq']\n",
        "      f.write(f'{id}\\t{freq}\\n')"
      ],
      "metadata": {
        "id": "IyLIkbSIgkAQ"
      },
      "execution_count": null,
      "outputs": []
    },
    {
      "cell_type": "markdown",
      "source": [
        "# Dependencies"
      ],
      "metadata": {
        "id": "MXyMmljEgt2S"
      }
    },
    {
      "cell_type": "code",
      "source": [
        "def get_deprel(dep):\n",
        "  with open('/content/gdrive/MyDrive/dep.txt', encoding='utf-8', errors='ignore') as f:\n",
        "    counter = 0\n",
        "    for line in f:\n",
        "      dep[line.strip()] = counter;\n",
        "      counter+=1\n",
        "\n",
        "def de2id(dep, output):  \n",
        "  filepath = os.path.join(output, 'de2id.txt')\n",
        "  with open(filepath, 'w') as f:\n",
        "    f.write('UNK\\t-1\\n')\n",
        "    f.writelines([f'{deprel}\\t{dep[deprel]}\\n' for deprel in  dep])\n",
        "\n",
        "def get_dep(dep, text):\n",
        "  if text not in dep:\n",
        "    dep[text] = len(dep)\n",
        "    filepath = os.path.join('data_gcn', languages[0], 'de2id.txt')\n",
        "    with open(filepath, 'a') as f:\n",
        "      f.write(f'{text}\\t{dep[text]}\\n')\n",
        "  return dep[text]"
      ],
      "metadata": {
        "id": "64RSkL7sgwok"
      },
      "execution_count": null,
      "outputs": []
    },
    {
      "cell_type": "markdown",
      "source": [
        "# Data"
      ],
      "metadata": {
        "id": "6cXq0S_Xg139"
      }
    },
    {
      "cell_type": "code",
      "source": [
        "def data(document, token_text, vocab, dep, output):\n",
        "  with open(output, 'w', encoding='utf-8', errors='ignore') as f:\n",
        "    for i, sent in enumerate(document.sentences):\n",
        "      # number of nodes and edges\n",
        "      f.write(f'{len(sent.words)} {len(sent.words) - 1} ')\n",
        "      # Print word ids\n",
        "      for j, word in enumerate(sent.words):\n",
        "        try:\n",
        "          # print(f'map: {word.text}\\t{token_text[i][j]}')\n",
        "          word_id = vocab[token_text[i][j]]['id']\n",
        "          f.write(f'{word_id} ')\n",
        "        except:\n",
        "          f.write('0 ')\n",
        "      # Print edges\n",
        "      for word in sent.words:\n",
        "        if word.head > 0: \n",
        "            f.write(f'{word.head-1}|{word.id - 1}|{get_dep(dep, word.deprel)} ')\n",
        "      f.write('\\n')\n",
        "\n",
        "def create_data(filename, lang, output):\n",
        "  token_text = tokenizer(lang, filename)\n",
        "  # print(f'before raw: {token_text}')\n",
        "  document = nlp[lang](raw(token_text))\n",
        "  # print(f'after_text: {token_text}')\n",
        "\n",
        "  # get_frequency(token_text, vocab[lang])\n",
        "  \n",
        "  data(document, token_text, vocab[lang], dep[lang], output)"
      ],
      "metadata": {
        "id": "cEcSpuv3g1Wq"
      },
      "execution_count": null,
      "outputs": []
    },
    {
      "cell_type": "markdown",
      "source": [
        "# Process data"
      ],
      "metadata": {
        "id": "QnqmJotvhdh7"
      }
    },
    {
      "cell_type": "code",
      "source": [
        "def reset_data():\n",
        "  for lang in languages:\n",
        "    token[lang] = []\n",
        "    vocab[lang] = {}\n",
        "    dep[lang] = {}"
      ],
      "metadata": {
        "id": "LpywpgNNhfOF"
      },
      "execution_count": null,
      "outputs": []
    },
    {
      "cell_type": "code",
      "source": [
        "def data_process(input, output):\n",
        "  reset_data()\n",
        "  for lang in languages:\n",
        "    print(f'Processing {lang}')\n",
        "\n",
        "    # Prepare input and output directory\n",
        "    input_dir = os.path.join(input, lang)\n",
        "    output_dir = os.path.join(output, lang)\n",
        "    if not os.path.exists(output_dir):\n",
        "      os.makedirs(output_dir) \n",
        "\n",
        "    # Get vocab and dep\n",
        "    get_token(lang)\n",
        "    \n",
        "    # voc2id\n",
        "    print('- voc2id')\n",
        "    build_vocab(token[lang], vocab[lang])        \n",
        "    voc2id(vocab[lang], output_dir)\n",
        "        \n",
        "    #de2id\n",
        "    print('- de2id')\n",
        "    get_deprel(dep[lang])\n",
        "    de2id(dep[lang], output_dir)\n",
        "\n",
        "    print('- data')\n",
        "    filenames = os.listdir(os.path.join(input, lang))\n",
        "    for i in range(first_part,last_part+step, step):\n",
        "      in_filepath = os.path.join(input_dir, filenames[i])\n",
        "      out_filepath = os.path.join(output_dir, f'data_{i}')\n",
        "      print(f'Part ({i}/{len(filenames) - 1}): {in_filepath}')\n",
        "      create_data(in_filepath, lang, out_filepath)\n",
        "\n",
        "    #id2freq\n",
        "    print('- id2freq')\n",
        "    id2freq(vocab[lang], output_dir)"
      ],
      "metadata": {
        "id": "gSnWd05thhYC"
      },
      "execution_count": null,
      "outputs": []
    },
    {
      "cell_type": "code",
      "source": [
        "data_process(raw_data_dir, data_dir)"
      ],
      "metadata": {
        "id": "0HUrtRXNhmOh"
      },
      "execution_count": null,
      "outputs": []
    },
    {
      "cell_type": "markdown",
      "source": [
        "# Fix unknown token"
      ],
      "metadata": {
        "id": "n9n2BOKA1O8b"
      }
    },
    {
      "cell_type": "code",
      "source": [
        "def fix_unknown_token():\n",
        "  for lang in ['en', 'de']:\n",
        "    input_dir = os.path.join(raw_data_dir, lang)\n",
        "    output_dir = os.path.join(data_dir, lang)\n",
        "    "
      ],
      "metadata": {
        "id": "zv19R89i1SCb"
      },
      "execution_count": null,
      "outputs": []
    }
  ]
}